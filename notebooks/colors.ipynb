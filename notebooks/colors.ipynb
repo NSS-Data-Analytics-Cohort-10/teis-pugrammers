{
 "cells": [
  {
   "cell_type": "markdown",
   "metadata": {},
   "source": [
    "SNS Theme"
   ]
  },
  {
   "cell_type": "code",
   "execution_count": null,
   "metadata": {},
   "outputs": [],
   "source": [
    "custom_params = {\"axes.spines.right\": False, \"axes.spines.top\": False}\n",
    "sns.set_theme(style=\"ticks\", rc=custom_params)"
   ]
  },
  {
   "cell_type": "markdown",
   "metadata": {},
   "source": [
    "BDI Colors"
   ]
  },
  {
   "cell_type": "code",
   "execution_count": 1,
   "metadata": {},
   "outputs": [],
   "source": [
    "bdi_dict= {\n",
    "    'BDI-3 Total Sum of Scaled Scores' : '#1B365D',\n",
    "    'BDI-3 Total Developmental Quotient\t' : '#ED9924',\n",
    "    'BDI-3 Total Percentile Rank' : '#1EE3524'\n",
    "}"
   ]
  },
  {
   "cell_type": "markdown",
   "metadata": {},
   "source": [
    "DQ Colors"
   ]
  },
  {
   "cell_type": "code",
   "execution_count": 1,
   "metadata": {},
   "outputs": [],
   "source": [
    "dq_dict= {\n",
    "    'Adaptive Developmental Quotient' : '#022B3A',\n",
    "    'Social-Emotional Developmental Quotient' : '#115363',\n",
    "    'Communication Developmental Quotient' : '#1F7A8C',\n",
    "    'Motor Developmental Quotient' : '#63A3BF',\n",
    "    'Cognitive Developmental Quotient' : '#A7CBF1'\n",
    "}"
   ]
  },
  {
   "cell_type": "markdown",
   "metadata": {},
   "source": [
    "Sum of Scaled Scores"
   ]
  },
  {
   "cell_type": "code",
   "execution_count": null,
   "metadata": {},
   "outputs": [],
   "source": [
    "sss_dict= {\n",
    "    'Adaptive Sum of Scaled Scores' : '#022B3A',\n",
    "    'Social-Emotional Sum of Scaled Scores' : '#115363',\n",
    "    'Communication Sum of Scaled Scores' : '#1F7A8C',\n",
    "    'Motor Sum of Scaled Scores' : '#63A3BF',\n",
    "    'Cognitive Sum of Scaled Scores' : '#A7CBF1'\n",
    "}"
   ]
  },
  {
   "cell_type": "markdown",
   "metadata": {},
   "source": [
    "PR by Domain"
   ]
  },
  {
   "cell_type": "code",
   "execution_count": null,
   "metadata": {},
   "outputs": [],
   "source": [
    "pr_dict= {\n",
    "    'Adaptive Percentile Rank' : '#022B3A',\n",
    "    'Social-Emotional Percentile Rank' : '#115363',\n",
    "    'Communication Percentile Rank' : '#1F7A8C',\n",
    "    'Motor Percentile Rank' : '#63A3BF',\n",
    "    'Cognitive Percentile Rank' : '#A7CBF1'\n",
    "}"
   ]
  },
  {
   "cell_type": "markdown",
   "metadata": {},
   "source": [
    "Scaled Scores by Sub-Domain"
   ]
  },
  {
   "cell_type": "code",
   "execution_count": null,
   "metadata": {},
   "outputs": [],
   "source": [
    "sub_ss_dict= {\n",
    "    'Adaptive-Self Care SS' : '#022B3A',\n",
    "    'Adaptive-Personal Responsibility SS' : '#001E29',\n",
    "    'Social Emotional-Adult Interaction SS' : '#115363',\n",
    "    'Social Emotional-Peer Interaction SS' : '#0F4957',\n",
    "    'Social Emotional-Self Concept / Social Role SS' : '#15667A',\n",
    "    'Communication-Receptive Communication SS' : '#1F7A8C',\n",
    "    'Communication-Expressive Communication SS' : '#1D7486',\n",
    "    'Motor-Gross Motor SS' : '#63A3BF',\n",
    "    'Motor-Fine Motor SS' : '#5199B8',\n",
    "    'Motor-Perceptual Motor SS' : '#7DB3CA',\n",
    "    'Cognitive-Attention and Memory SS' : '#A7CBF1',\n",
    "    'Cognitive-Reasoning / Academic Skills SS' : '#83B6EC',\n",
    "    'Cognitive-Perception and Concepts SS' : '#95C0EE'    \n",
    "}"
   ]
  },
  {
   "cell_type": "markdown",
   "metadata": {},
   "source": [
    "PR by Sub-Domain"
   ]
  },
  {
   "cell_type": "code",
   "execution_count": null,
   "metadata": {},
   "outputs": [],
   "source": [
    "sub_pr_dict= {\n",
    "    'Adaptive-Self Care PR' : '#022B3A',\n",
    "    'Adaptive-Personal Responsibility PR' : '#001E29',\n",
    "    'Social Emotional-Adult Interaction PR' : '#115363',\n",
    "    'Social Emotional-Peer Interaction PR' : '#0F4957',\n",
    "    'Social Emotional-Self Concept / Social Role PR' : '#15667A',\n",
    "    'Communication-Receptive Communication PR' : '#1F7A8C',\n",
    "    'Communication-Expressive Communication PR' : '#1D7486',\n",
    "    'Motor-Gross Motor PR' : '#63A3BF',\n",
    "    'Motor-Fine Motor PR' : '#5199B8',\n",
    "    'Motor-Perceptual Motor PR' : '#7DB3CA',\n",
    "    'Cognitive-Attention and Memory PR' : '#A7CBF1',\n",
    "    'Cognitive-Reasoning / Academic Skills PR' : '#83B6EC',\n",
    "    'Cognitive-Perception and Concepts PR' : '#95C0EE'    \n",
    "}"
   ]
  },
  {
   "cell_type": "markdown",
   "metadata": {},
   "source": [
    "Location Colors"
   ]
  },
  {
   "cell_type": "code",
   "execution_count": null,
   "metadata": {},
   "outputs": [],
   "source": [
    "loc_dit = {\n",
    "    'West' : '#72B99C',\n",
    "    'Middle TN' : '#EE8783',\n",
    "    'East' : '#7C99BD'\n",
    "}"
   ]
  },
  {
   "cell_type": "markdown",
   "metadata": {},
   "source": [
    "Region Colors"
   ]
  },
  {
   "cell_type": "code",
   "execution_count": 2,
   "metadata": {},
   "outputs": [],
   "source": [
    "region_dict = {\n",
    "    'Northwest' : '#72B99C',\n",
    "    'Southwest' : '#978d87',\n",
    "    'Memphis Delta' : '#a2c7cd',\n",
    "    'Greater Nashville' : '#EE8783',\n",
    "    'Upper Cumberland' : '#b7bfa',\n",
    "    'South Central' : '#cbc56b',\n",
    "    'East Tennessee' : '#7C99BD',\n",
    "    'First Tennessee' : '#f9c167',\n",
    "    'Southeast Tennessee' : '#bf8fa3'\n",
    "}"
   ]
  },
  {
   "cell_type": "code",
   "execution_count": null,
   "metadata": {},
   "outputs": [],
   "source": []
  }
 ],
 "metadata": {
  "kernelspec": {
   "display_name": "base",
   "language": "python",
   "name": "python3"
  },
  "language_info": {
   "codemirror_mode": {
    "name": "ipython",
    "version": 3
   },
   "file_extension": ".py",
   "mimetype": "text/x-python",
   "name": "python",
   "nbconvert_exporter": "python",
   "pygments_lexer": "ipython3",
   "version": "3.11.5"
  }
 },
 "nbformat": 4,
 "nbformat_minor": 2
}
