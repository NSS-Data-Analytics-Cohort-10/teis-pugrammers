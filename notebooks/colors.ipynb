{
 "cells": [
  {
   "cell_type": "markdown",
   "metadata": {},
   "source": [
    "SNS Theme"
   ]
  },
  {
   "cell_type": "code",
   "execution_count": null,
   "metadata": {},
   "outputs": [],
   "source": [
    "custom_params = {\"axes.spines.right\": False, \"axes.spines.top\": False}\n",
    "sns.set_theme(style=\"ticks\", rc=custom_params)"
   ]
  },
  {
   "cell_type": "markdown",
   "metadata": {},
   "source": [
    "DQ Colors"
   ]
  },
  {
   "cell_type": "code",
   "execution_count": 1,
   "metadata": {},
   "outputs": [],
   "source": [
    "dq_dict= {\n",
    "    'Adaptive Developmental Quotient' : '#022B3A',\n",
    "    'Social-Emotional Developmental Quotient' : '#115363',\n",
    "    'Communication Developmental Quotient\t' : '#1F7A8C',\n",
    "    'Motor Developmental Quotient' : '#BFDBF7',\n",
    "    'Cognitive Developmental Quotient' : '#E1E5F2'\n",
    "}"
   ]
  },
  {
   "cell_type": "markdown",
   "metadata": {},
   "source": [
    "Sum of Scaled Scores"
   ]
  },
  {
   "cell_type": "code",
   "execution_count": null,
   "metadata": {},
   "outputs": [],
   "source": [
    "sss_dict= {\n",
    "    'Adaptive Sum of Scaled Scores' : '#022B3A',\n",
    "    'Social-Emotional Sum of Scaled Scores' : '#115363',\n",
    "    'Communication Sum of Scaled Scores' : '#1F7A8C',\n",
    "    'Motor Sum of Scaled Scores' : '#BFDBF7',\n",
    "    'Cognitive Sum of Scaled Scores' : '#E1E5F2'\n",
    "}"
   ]
  },
  {
   "cell_type": "markdown",
   "metadata": {},
   "source": [
    "PR by Domain"
   ]
  },
  {
   "cell_type": "code",
   "execution_count": null,
   "metadata": {},
   "outputs": [],
   "source": [
    "pr_dict= {\n",
    "    'Adaptive Percentile Rank' : '#022B3A',\n",
    "    'Social-Emotional Percentile Rank' : '#115363',\n",
    "    'Communication Percentile Rank' : '#1F7A8C',\n",
    "    'Motor Percentile Rank' : '#BFDBF7',\n",
    "    'Cognitive Percentile Rank' : '#E1E5F2'\n",
    "}"
   ]
  },
  {
   "cell_type": "markdown",
   "metadata": {},
   "source": [
    "Scaled Scores by Sub-Domain"
   ]
  },
  {
   "cell_type": "code",
   "execution_count": null,
   "metadata": {},
   "outputs": [],
   "source": [
    "sub_ss_dict= {\n",
    "    'Adaptive-Self Care SS' : '#022B3A',\n",
    "    'Adaptive-Personal Responsibility SS' : '#001E29',\n",
    "    'Social Emotional-Adult Interaction SS' : '#115363',\n",
    "    'Social Emotional-Peer Interaction SS' : '#0F4957',\n",
    "    'Social Emotional-Self Concept / Social Role SS' : '#15667A',\n",
    "    'Communication-Receptive Communication SS' : '#1F7A8C',\n",
    "    'Communication-Expressive Communication SS' : '#1D7486',\n",
    "    'Motor-Gross Motor SS' : '#BFDBF7',\n",
    "    'Motor-Fine Motor SS' : '#B6D6F6',\n",
    "    'Motor-Perceptual Motor SS' : '#A4CCF4',\n",
    "    'Cognitive-Attention and Memory SS' : '#E1E5F2',\n",
    "    'Cognitive-Reasoning / Academic Skills SS' : '#D4DAED',\n",
    "    'Cognitive-Perception and Concepts SS' : '#C6CDE7'    \n",
    "}"
   ]
  },
  {
   "cell_type": "markdown",
   "metadata": {},
   "source": [
    "PR by Sub-Domain"
   ]
  },
  {
   "cell_type": "code",
   "execution_count": null,
   "metadata": {},
   "outputs": [],
   "source": [
    "sub_pr_dict= {\n",
    "    'Adaptive-Self Care PR' : '#022B3A',\n",
    "    'Adaptive-Personal Responsibility PR' : '#001E29',\n",
    "    'Social Emotional-Adult Interaction PR' : '#115363',\n",
    "    'Social Emotional-Peer Interaction PR' : '#0F4957',\n",
    "    'Social Emotional-Self Concept / Social Role PR' : '#15667A',\n",
    "    'Communication-Receptive Communication PR' : '#1F7A8C',\n",
    "    'Communication-Expressive Communication PR' : '#1D7486',\n",
    "    'Motor-Gross Motor PR' : '#BFDBF7',\n",
    "    'Motor-Fine Motor PR' : '#B6D6F6',\n",
    "    'Motor-Perceptual Motor PR' : '#A4CCF4',\n",
    "    'Cognitive-Attention and Memory PR' : '#E1E5F2',\n",
    "    'Cognitive-Reasoning / Academic Skills PR' : '#D4DAED',\n",
    "    'Cognitive-Perception and Concepts PR' : '#C6CDE7'    \n",
    "}"
   ]
  },
  {
   "cell_type": "markdown",
   "metadata": {},
   "source": [
    "Location Colors"
   ]
  },
  {
   "cell_type": "code",
   "execution_count": null,
   "metadata": {},
   "outputs": [],
   "source": [
    "loc_dit = {\n",
    "    'West' : '#72B99C',\n",
    "    'Middle TN' : '#EE8783',\n",
    "    'East' : '#7C99BD'\n",
    "}"
   ]
  },
  {
   "cell_type": "markdown",
   "metadata": {},
   "source": [
    "Region Colors"
   ]
  },
  {
   "cell_type": "code",
   "execution_count": 2,
   "metadata": {},
   "outputs": [],
   "source": [
    "region_dict = {\n",
    "    'Northwest' : '#72B99C',\n",
    "    'Southwest' : '#978d87',\n",
    "    'Memphis Delta' : '#a2c7cd',\n",
    "    'Greater Nashville' : '#EE8783',\n",
    "    'Upper Cumberland' : '#b7bfa',\n",
    "    'South Central' : '#cbc56b',\n",
    "    'East Tennessee' : '#7C99BD',\n",
    "    'First Tennessee' : '#f9c167',\n",
    "    'Southeast Tennessee' : '#bf8fa3'\n",
    "}"
   ]
  },
  {
   "cell_type": "code",
   "execution_count": null,
   "metadata": {},
   "outputs": [],
   "source": []
  }
 ],
 "metadata": {
  "kernelspec": {
   "display_name": "base",
   "language": "python",
   "name": "python3"
  },
  "language_info": {
   "codemirror_mode": {
    "name": "ipython",
    "version": 3
   },
   "file_extension": ".py",
   "mimetype": "text/x-python",
   "name": "python",
   "nbconvert_exporter": "python",
   "pygments_lexer": "ipython3",
   "version": "3.11.5"
  }
 },
 "nbformat": 4,
 "nbformat_minor": 2
}
